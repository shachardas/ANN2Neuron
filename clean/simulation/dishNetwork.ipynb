{
 "cells": [
  {
   "cell_type": "code",
   "execution_count": null,
   "metadata": {},
   "outputs": [],
   "source": [
    "from dishNetwork import DishNetwork"
   ]
  },
  {
   "cell_type": "code",
   "execution_count": null,
   "metadata": {},
   "outputs": [],
   "source": [
    "## simple line network that propegate the signal\n",
    "\n",
    "net = DishNetwork([1,1,1,1],[[[1]],[[1]],[[1]]])\n",
    "net.stimulate()"
   ]
  },
  {
   "cell_type": "code",
   "execution_count": null,
   "metadata": {},
   "outputs": [],
   "source": [
    "## 2 nodes connect to 1 node\n",
    "\n",
    "net = DishNetwork([2,1],[[[1],[1]]])\n",
    "net.stimulate()"
   ]
  },
  {
   "cell_type": "code",
   "execution_count": null,
   "metadata": {},
   "outputs": [],
   "source": [
    "## small network with an RNN layer\n",
    "\n",
    "net = DishNetwork([1,1],[([[1]],[[1]])])\n",
    "net.stimulate(lambda i,t: 1 if t == 1 else 0)"
   ]
  },
  {
   "cell_type": "code",
   "execution_count": null,
   "metadata": {},
   "outputs": [],
   "source": [
    "## inhibitory connections\n",
    "\n",
    "net = DishNetwork([2,1],[[[1],[-1]]])\n",
    "net.stimulate(lambda i,t: 1 if t % 30 == 0 and i == 0 else (1 if t % 60 == 0 and i == 1 else 0))"
   ]
  },
  {
   "cell_type": "code",
   "execution_count": null,
   "metadata": {},
   "outputs": [],
   "source": [
    "## inhibitory connections disabling an RNN feedback loop\n",
    "\n",
    "net = DishNetwork([2,1,1],[[[1],[-1]],([[1]],[[1]])])\n",
    "net.stimulate([[10, 400, 800],[200, 600]])"
   ]
  },
  {
   "cell_type": "code",
   "execution_count": null,
   "metadata": {},
   "outputs": [],
   "source": [
    "## exitory vs inhibitory\n",
    "\n",
    "net = DishNetwork([6,1],[[[1],[1],[1],[-1],[-1],[-1]]])\n",
    "net.stimulate([[100,200,300,400,500,600,700],[400,500,600,700],[600,700],[200,300,400,500,600,700],[300,500,600,700],[700]])"
   ]
  }
 ],
 "metadata": {
  "kernelspec": {
   "display_name": "Python 3",
   "language": "python",
   "name": "python3"
  },
  "language_info": {
   "codemirror_mode": {
    "name": "ipython",
    "version": 3
   },
   "file_extension": ".py",
   "mimetype": "text/x-python",
   "name": "python",
   "nbconvert_exporter": "python",
   "pygments_lexer": "ipython3",
   "version": "3.8.10"
  }
 },
 "nbformat": 4,
 "nbformat_minor": 2
}
