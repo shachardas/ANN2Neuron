{
 "cells": [
  {
   "cell_type": "code",
   "execution_count": null,
   "metadata": {},
   "outputs": [
    {
     "data": {
      "image/png": "[encoded data removed]",
      "text/plain": [
       "<Figure size 432x288 with 1 Axes>"
      ]
     },
     "metadata": {
      "needs_background": "light"
     },
     "output_type": "display_data"
    },
    {
     "name": "stdout",
     "output_type": "stream",
     "text": [
      "first mat dims torch.Size([784, 800])\n",
      "last mat dims torch.Size([400, 10])\n",
      "connecting layer 784 800 , this might take a while..\n",
      "connected 50 nodes in the layer\n",
      "connected 150 nodes in the layer\n",
      "connected 250 nodes in the layer\n",
      "connected 350 nodes in the layer\n",
      "connected 450 nodes in the layer\n",
      "connected 550 nodes in the layer\n"
     ]
    }
   ],
   "source": [
    "import torch\n",
    "import modules.model2sim as sim\n",
    "\n",
    "import torch\n",
    "import torch.nn as nn\n",
    "\n",
    "def Binarize(tensor, include_zero = True, minSig=3):\n",
    "    if include_zero:\n",
    "        P_std = 0.25\n",
    "        up_lim = torch.min(0 + P_std*tensor.std(), torch.ones_like(tensor)*minSig)\n",
    "        down_lim = torch.max(0 - P_std*tensor.std(), -1*torch.ones_like(tensor)*minSig)\n",
    "        up_v = (tensor>up_lim).float()\n",
    "        down_v = (tensor<down_lim).float().mul(-1)\n",
    "        return (up_v + down_v)\n",
    "    else:\n",
    "        return tensor.sign()\n",
    "\n",
    "class BinarizeLinear(nn.Linear):\n",
    "\n",
    "    def __init__(self, *kargs, **kwargs):\n",
    "        super(BinarizeLinear, self).__init__(*kargs, **kwargs)\n",
    "\n",
    "    def forward(self, input):\n",
    "\n",
    "        if input.size(1) != 784:\n",
    "            input.data=Binarize(input.data)\n",
    "        if not hasattr(self.weight,'org'):\n",
    "            self.weight.org=self.weight.data.clone()\n",
    "        self.weight.data=Binarize(self.weight.org)\n",
    "        out = nn.functional.linear(input, self.weight)\n",
    "        if not self.bias is None:\n",
    "            self.bias.org=self.bias.data.clone()\n",
    "            out += self.bias.view(1, -1).expand_as(out)\n",
    "\n",
    "        return out\n",
    "\n",
    "class Net(nn.Module):\n",
    "    def __init__(self):\n",
    "        super(Net, self).__init__()\n",
    "        self.fc1 = BinarizeLinear(784, 400, bias=False)\n",
    "        self.bn1 = nn.BatchNorm1d(400)\n",
    "        self.htanh1 = nn.Hardtanh()\n",
    "        self.drop=nn.Dropout(0.5)\n",
    "        self.fc3 = BinarizeLinear(400, 200, bias=False)\n",
    "        self.bn3 = nn.BatchNorm1d(200)\n",
    "        self.htanh3 = nn.Hardtanh()\n",
    "        self.fc4 = BinarizeLinear(200, 10, bias=False)\n",
    "        self.logsoftmax=nn.LogSoftmax()\n",
    "\n",
    "    def forward(self, x):\n",
    "        x = x.view(-1, 28*28)\n",
    "        x = self.fc1(x)\n",
    "        x = self.bn1(x)\n",
    "        x = self.htanh1(x)\n",
    "        x = self.drop(x)\n",
    "        x = self.fc3(x)\n",
    "        x = self.bn3(x)\n",
    "        x = self.htanh3(x)\n",
    "        x = self.fc4(x)\n",
    "        x = self.logsoftmax(x)\n",
    "        return x\n",
    "\n",
    "    def test(self, x):\n",
    "        x = x.view(-1, 28*28)\n",
    "        x = self.fc1(x)\n",
    "        x = self.fc3(x)\n",
    "        x = self.fc4(x)\n",
    "        return x\n",
    "\n",
    "\n",
    "\n",
    "model = Net()\n",
    "model.load_state_dict(torch.load(\"trained_models/small_test_all_layers.pt\",map_location=torch.device('cpu')))\n",
    "model.eval()\n",
    "res, model_act = sim.testMNIST(model)"
   ]
  },
  {
   "cell_type": "code",
   "execution_count": null,
   "metadata": {},
   "outputs": [],
   "source": [
    "parse, sum = sim.testSim(res, model_act,4,1,4)\n",
    "pprint(parse)\n",
    "print(\"sum:\",sum)"
   ]
  }
 ],
 "metadata": {
  "kernelspec": {
   "display_name": "Python 3",
   "language": "python",
   "name": "python3"
  },
  "language_info": {
   "codemirror_mode": {
    "name": "ipython",
    "version": 3
   },
   "file_extension": ".py",
   "mimetype": "text/x-python",
   "name": "python",
   "nbconvert_exporter": "python",
   "pygments_lexer": "ipython3",
   "version": "3.8.10"
  }
 },
 "nbformat": 4,
 "nbformat_minor": 4
}
